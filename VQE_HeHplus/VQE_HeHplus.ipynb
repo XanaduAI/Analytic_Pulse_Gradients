{
 "cells": [
  {
   "cell_type": "code",
   "execution_count": 1,
   "metadata": {},
   "outputs": [],
   "source": [
    "import pennylane as qml\n",
    "import pennylane.numpy as np\n",
    "import jax.numpy as jnp\n",
    "import jax\n",
    "\n",
    "jax.config.update(\"jax_enable_x64\", True)\n",
    "\n",
    "import matplotlib.pyplot as plt"
   ]
  },
  {
   "cell_type": "code",
   "execution_count": 2,
   "metadata": {},
   "outputs": [],
   "source": [
    "data = qml.data.load(\"qchem\", molname=\"HeH+\", basis=\"STO-3G\", bondlength=1.78)[0]\n",
    "H_obj = data.tapered_hamiltonian\n",
    "H_obj = qml.Hamiltonian(jnp.array(H_obj.coeffs), H_obj.ops)\n",
    "E_exact = data.fci_energy"
   ]
  },
  {
   "cell_type": "code",
   "execution_count": 3,
   "metadata": {},
   "outputs": [],
   "source": [
    "energy_jax = np.zeros((100, 100))\n",
    "energy_generator = np.zeros((100, 100))\n",
    "energy_ps = np.zeros((2, 100, 100))\n",
    "for i in range(100):\n",
    "    dat = np.load(f\"data/VQE_Maryland__HeH_jax_{i}.npz\", allow_pickle=True)\n",
    "    energy_jax[i] = dat[\"energy\"]\n",
    "    dat = np.load(f\"data/VQE__HeH+-1.78_atol-1_{i}.npz\", allow_pickle=True)\n",
    "    energy_generator[i] = dat[\"energy\"]\n",
    "    dat = np.load(f\"data/VQE_Maryland__HeH+-1.78_ps-split-8_{i}.npz\", allow_pickle=True)\n",
    "    energy_ps[0, i] = dat[\"energy\"]\n",
    "    dat = np.load(f\"data/VQE_Maryland__HeH+-1.78_ps-split-20_{i}.npz\", allow_pickle=True)\n",
    "    energy_ps[1, i] = dat[\"energy\"]\n",
    "    # dat = np.load(f\"data/VQE_Maryland_{i}_HeH+-0.775_legendre_ps_split-20.npz\", allow_pickle=True)\n",
    "    # energy_ps[2, i] = dat[\"energy\"]\n",
    "theta = dat[\"theta\"]\n",
    "energy_jax = energy_jax - E_exact\n",
    "energy_generator = energy_generator - E_exact\n",
    "energy_ps = energy_ps - E_exact"
   ]
  },
  {
   "cell_type": "code",
   "execution_count": 4,
   "metadata": {},
   "outputs": [],
   "source": [
    "y_ps_var = np.std(energy_ps, axis=1)\n",
    "y_ps_mean = np.mean(energy_ps, axis=1)\n",
    "y_jax_var = np.std(energy_jax, axis=0)\n",
    "y_jax_mean = np.mean(energy_jax, axis=0)\n",
    "y_generator_var = np.std(energy_generator, axis=0)\n",
    "y_generator_mean = np.mean(energy_generator, axis=0)\n",
    "\n",
    "lower_percentile_ps = np.percentile(energy_ps, 5, axis=1)  # 5th percentile (90% below)\n",
    "upper_percentile_ps = np.percentile(energy_ps, 95, axis=1)  # 95th percentile (90% above)\n",
    "\n",
    "lower_percentile_jax = np.percentile(energy_jax, 5, axis=0)  # 5th percentile (90% below)\n",
    "upper_percentile_jax = np.percentile(energy_jax, 95, axis=0)  # 95th percentile (90% above)\n",
    "\n",
    "lower_percentile_generator = np.percentile(energy_generator, 5, axis=0)  # 5th percentile (90% below)\n",
    "upper_percentile_generator = np.percentile(energy_generator, 95, axis=0)  # 95th percentile (90% above)"
   ]
  },
  {
   "cell_type": "code",
   "execution_count": 8,
   "metadata": {},
   "outputs": [],
   "source": [
    "fig, ax = plt.subplots(figsize=(5,4))\n",
    "color = [\"tab:blue\", \"tab:orange\", \"k\", \"tab:red\", \"tab:cyan\", \"tab:pink\"]\n",
    "x = np.arange(100)\n",
    "n_splits = [8, 20]\n",
    "Rs = [32, 80]\n",
    "\n",
    "ax.plot(x, y_ps_mean[0], \"-\", markersize=3, label=f\"sps $N_s$ = {n_splits[0]}; $\\\\mathcal{{R}} =$ {Rs[0]}\", color=color[0])\n",
    "ax.fill_between(x, lower_percentile_ps[0], upper_percentile_ps[0], alpha=0.3, color=color[0])\n",
    "\n",
    "ax.plot(x, y_ps_mean[1], \"-\", label=f\"sps $N_s$ = {n_splits[1]}; $\\\\mathcal{{R}} =$ {Rs[1]}\", color=color[1])\n",
    "ax.fill_between(x, lower_percentile_ps[1], upper_percentile_ps[1], alpha=0.3, color=color[1])\n",
    "\n",
    "ax.plot(x, y_generator_mean, \"-\", markersize=5, label=\"gen. atol=1; $\\\\mathcal{R} \\\\approx$ 18\", color=color[3])\n",
    "ax.fill_between(x, lower_percentile_generator, upper_percentile_generator, alpha=0.3, color=color[3])\n",
    "\n",
    "ax.plot(x, y_jax_mean, \"-\", markersize=5, label=\"gen. full; $\\\\mathcal{R} =$ 30\", color=color[2])\n",
    "ax.fill_between(x, lower_percentile_jax, upper_percentile_jax, alpha=0.3, color=color[2])\n",
    "\n",
    "ax.legend(loc=3)\n",
    "ax.set_ylabel(\"E($\\\\theta$) - $E_{{FCI}}$\")\n",
    "ax.set_xlabel(\"epoch\")\n",
    "\n",
    "ax.set_yscale(\"log\")\n",
    "\n",
    "plt.tight_layout()\n",
    "plt.savefig(\"VQE_HeHplus.png\", dpi=1000)"
   ]
  }
 ],
 "metadata": {
  "kernelspec": {
   "display_name": "pennylane311",
   "language": "python",
   "name": "python3"
  },
  "language_info": {
   "codemirror_mode": {
    "name": "ipython",
    "version": 3
   },
   "file_extension": ".py",
   "mimetype": "text/x-python",
   "name": "python",
   "nbconvert_exporter": "python",
   "pygments_lexer": "ipython3",
   "version": "3.11.0"
  },
  "orig_nbformat": 4
 },
 "nbformat": 4,
 "nbformat_minor": 2
}
