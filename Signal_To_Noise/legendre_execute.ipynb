{
 "cells": [
  {
   "cell_type": "code",
   "execution_count": 1,
   "metadata": {},
   "outputs": [],
   "source": [
    "import pennylane as qml\n",
    "import pennylane.numpy as np\n",
    "import jax.numpy as jnp\n",
    "import jax\n",
    "\n",
    "jax.config.update(\"jax_enable_x64\", True)\n",
    "\n",
    "import sys\n",
    "sys.path.append('../')\n",
    "from util import grad_estimate"
   ]
  },
  {
   "cell_type": "code",
   "execution_count": 2,
   "metadata": {},
   "outputs": [],
   "source": [
    "data = qml.data.load(\"qchem\", molname=\"HeH+\", basis=\"STO-3G\", bondlength=1.5)[0]\n",
    "H_obj = data.tapered_hamiltonian\n",
    "H_obj = qml.Hamiltonian(jnp.array(H_obj.coeffs), H_obj.ops)\n",
    "E_exact = data.fci_energy\n",
    "\n",
    "# values and parametrization matching exactly https://arxiv.org/pdf/2210.15812.pdf\n",
    "# all in units of 10^9\n",
    "qubit_freq = jnp.pi * 2 * np.array([5.23, 5.01])\n",
    "eps = np.array([32.9, 31.5]) #10^9\n",
    "max_amp = jnp.array([0.955, 0.987]) # much larger than in ctrl-vqe paper\n",
    "connections = [(0, 1)]\n",
    "coupling = 0.0123\n",
    "wires = [0, 1]\n",
    "n_wires = len(wires)\n",
    "timespan = 100.\n",
    "\n",
    "def normalize(x):\n",
    "    \"\"\"Differentiable normalization to +/- 1 outputs (shifted sigmoid)\"\"\"\n",
    "    return (1 - jnp.exp(-x))/(1 + jnp.exp(-x))\n",
    "\n",
    "legendres = jnp.array([\n",
    "    [0, 0, 0, 0, 1],\n",
    "    [0, 0, 0, 1, 0],\n",
    "    0.5*jnp.array([0, 0, 3, 0, -1]),\n",
    "    0.5*jnp.array([0, 5, 0, -3, 0]),\n",
    "    1/8*jnp.array([35, 0, -30, 0, 3])\n",
    "])\n",
    "leg_func = jax.jit(jax.vmap(jnp.polyval, [0, None]))\n",
    "dLeg = len(legendres)\n",
    "\n",
    "def amp(timespan, omega, max_amp):\n",
    "    def wrapped(p, t):\n",
    "        pr, pi = p[:dLeg], p[dLeg:]\n",
    "        par = pr + 1j * pi\n",
    "        leg_vals = leg_func(legendres, 2*t/timespan - 1)\n",
    "        z = par @ leg_vals\n",
    "        res = normalize(z) * jnp.angle(z)\n",
    "        res = max_amp * jnp.real(jnp.exp(1j*omega*t) * res) # eq. (27)\n",
    "        return res\n",
    "    return wrapped\n",
    "\n",
    "H_D = qml.dot(0.5*eps, [qml.Identity(i) - qml.PauliZ(i) for i in wires])\n",
    "H_D += coupling/2 * (qml.PauliX(0) @ qml.PauliX(1) + qml.PauliY(0) @ qml.PauliY(1)) # implicit factor 2 due to redundancy in formula\n",
    "\n",
    "fs = [amp(timespan, qubit_freq[i], max_amp[i]) for i in range(n_wires)]\n",
    "ops = [qml.PauliX(i) for i in wires]\n",
    "\n",
    "H_C = qml.dot(fs, ops)\n",
    "H = H_D + H_C\n",
    "\n",
    "atol=1e-16\n",
    "\n",
    "dev = qml.device(\"default.qubit.jax\", wires=n_wires)\n",
    "\n",
    "def circuit(params, ts):\n",
    "    qml.evolve(H, atol=atol)(params, t=ts)\n",
    "    return qml.expval(H_obj)\n",
    "\n",
    "def f(params, tau):\n",
    "    return [fs[i](params[i], tau) for i in range(len(fs))]\n",
    "\n",
    "cost_jax = qml.QNode(circuit, dev, interface=\"jax\")\n",
    "\n",
    "key = jax.random.PRNGKey(42)\n",
    "params = jax.random.normal(key, shape=(n_wires, 2*dLeg))"
   ]
  },
  {
   "cell_type": "code",
   "execution_count": 3,
   "metadata": {},
   "outputs": [
    {
     "data": {
      "text/plain": [
       "Array([[-1.52170615e+01, -2.39397289e+00,  2.36863833e+00,\n",
       "        -4.37190483e-01,  4.99867229e+00, -6.80037822e+00,\n",
       "         1.07393153e+01,  5.20989824e+00, -3.89863420e+00,\n",
       "        -1.51870226e+00],\n",
       "       [-2.22706166e+01, -3.30561140e-01,  9.51753532e+00,\n",
       "         3.11007803e-01, -5.33835977e+00,  1.97866925e+01,\n",
       "         1.61035905e-02, -6.84630350e+00,  1.35886302e-01,\n",
       "         3.01250957e+00]], dtype=float64)"
      ]
     },
     "execution_count": 3,
     "metadata": {},
     "output_type": "execute_result"
    }
   ],
   "source": [
    "N_s = 10002\n",
    "taus = jnp.linspace(0., timespan, N_s)\n",
    "\n",
    "grad_exact = jnp.array(jax.jacobian(cost_jax)(params, taus))\n",
    "grad_exact"
   ]
  },
  {
   "cell_type": "code",
   "execution_count": 4,
   "metadata": {},
   "outputs": [],
   "source": [
    "# compute static data once\n",
    "# [U(t0, t0)] U(t0, t1) .. U(t0, tn-1) [U(t0, tn)]\n",
    "U0 = qml.matrix(qml.evolve(H, atol=atol)(params, t=taus, return_intermediate=True))[1:-1]\n",
    "# [U(t0, tn)] U(t1, tn) .. U(tn-1, tn) [U(tn, tn)]\n",
    "U1 = qml.matrix(qml.evolve(H, atol=atol)(params, t=taus, return_intermediate=True, complementary=True))[1:-1]\n",
    "taus = taus[1:-1]"
   ]
  },
  {
   "cell_type": "code",
   "execution_count": 5,
   "metadata": {},
   "outputs": [],
   "source": [
    "def p(h, sign):\n",
    "    digi_gate = qml.matrix(qml.evolve(h, sign*np.pi/4), wire_order=range(n_wires))\n",
    "    Hm = qml.matrix(H_obj, wire_order=range(n_wires))\n",
    "\n",
    "    psi0 = jnp.eye(2**n_wires)[0]\n",
    "    psit = jnp.einsum(\"Nij,j\", U0, psi0)\n",
    "    psit = jnp.einsum(\"ij,Nj->Ni\", digi_gate, psit)\n",
    "    psit = jnp.einsum(\"Nij,Nj->Ni\", U1, psit)\n",
    "    return jnp.einsum(\"Ni,ij,Nj->N\",psit.conj(), Hm, psit).real\n",
    "\n",
    "def p_drift(h, sign):\n",
    "    digi_gate = qml.evolve(H_D + qml.pulse.constant * h)([sign*jnp.pi/4], t=1.)\n",
    "    digi_gate = qml.matrix(digi_gate, wire_order=range(n_wires))\n",
    "    Hm = qml.matrix(H_obj, wire_order=range(n_wires))\n",
    "\n",
    "    psi0 = jnp.eye(2**n_wires)[0]\n",
    "    psit = jnp.einsum(\"Nij,j\", U0, psi0)\n",
    "    psit = jnp.einsum(\"ij,Nj->Ni\", digi_gate, psit)\n",
    "    psit = jnp.einsum(\"Nij,Nj->Ni\", U1, psit)\n",
    "    return jnp.einsum(\"Ni,ij,Nj->N\",psit.conj(), Hm, psit).real"
   ]
  },
  {
   "cell_type": "code",
   "execution_count": 6,
   "metadata": {},
   "outputs": [],
   "source": [
    "# classical jacobian\n",
    "jac_fun = jax.vmap(jax.jit(jax.jacobian(f)), [None, 0])\n",
    "jac = jnp.array(jac_fun(params, taus))\n",
    "jac = jnp.moveaxis(jac, 1, 0) # shape Ns, Nops, Nparams\n",
    "jac = jnp.reshape(jac, (N_s-2, n_wires, -1))\n",
    "\n",
    "# integrand results\n",
    "ps = jnp.array([p(h, 1) - p(h, -1) for h in ops])\n",
    "ps = jnp.moveaxis(ps, -1, 0)[:, :, jnp.newaxis] # Ns, Nops, 1 (for broadcasting)\n",
    "\n",
    "ps_drift = jnp.array([p_drift(h, 1) - p_drift(h, -1) for h in ops])\n",
    "ps_drift = jnp.moveaxis(ps_drift, -1, 0)[:, :, jnp.newaxis] # Ns, Nops, 1 (for broadcasting)\n",
    "\n",
    "res = jac * ps\n",
    "res_drift = jac * ps_drift"
   ]
  },
  {
   "cell_type": "code",
   "execution_count": 7,
   "metadata": {},
   "outputs": [],
   "source": [
    "n_tauss = [5, 10, 20, 40, 80, 160]\n",
    "reps = 100"
   ]
  },
  {
   "cell_type": "code",
   "execution_count": 8,
   "metadata": {},
   "outputs": [],
   "source": [
    "grads = grad_estimate(res, jac, timespan, seed=92, n_tauss=None, reps=reps, importance=False)"
   ]
  },
  {
   "cell_type": "code",
   "execution_count": 9,
   "metadata": {},
   "outputs": [],
   "source": [
    "name = \"data/legendre_s2n\"\n",
    "np.savez(name,\n",
    "    res=res,\n",
    "    res_drift=res_drift,\n",
    "    taus=taus,\n",
    "    n_tauss=n_tauss,\n",
    "    grads=grads, \n",
    "    grad_exact=grad_exact,\n",
    "    qubit_freq=qubit_freq,\n",
    "    params=params)"
   ]
  }
 ],
 "metadata": {
  "kernelspec": {
   "display_name": "pennylane311",
   "language": "python",
   "name": "python3"
  },
  "language_info": {
   "codemirror_mode": {
    "name": "ipython",
    "version": 3
   },
   "file_extension": ".py",
   "mimetype": "text/x-python",
   "name": "python",
   "nbconvert_exporter": "python",
   "pygments_lexer": "ipython3",
   "version": "3.11.0"
  },
  "orig_nbformat": 4
 },
 "nbformat": 4,
 "nbformat_minor": 2
}
